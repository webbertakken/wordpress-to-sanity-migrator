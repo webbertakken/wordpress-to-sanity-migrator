{
 "cells": [
  {
   "cell_type": "code",
   "execution_count": null,
   "id": "3bb0c797",
   "metadata": {
    "polyglot_notebook": {
     "kernelName": "pwsh"
    }
   },
   "outputs": [],
   "source": [
    "echo \"Hi, this is a Polygot Notebook, which requires the Polyglot Notebooks extension for VS Code\""
   ]
  },
  {
   "cell_type": "code",
   "execution_count": null,
   "id": "cb7531ea",
   "metadata": {
    "polyglot_notebook": {
     "kernelName": "pwsh"
    }
   },
   "outputs": [],
   "source": [
    "# Check if 'temp-mariadb' container exists, stop and remove if it does\n",
    "if (docker ps -a --format '{{.Names}}' | Select-String -Pattern '^temp-mariadb$') {\n",
    "  Write-Output \"Container 'temp-mariadb' exists. Stopping and removing...\"\n",
    "  docker stop temp-mariadb\n",
    "  docker rm temp-mariadb\n",
    "} else {\n",
    "  Write-Output \"Done\"\n",
    "}"
   ]
  },
  {
   "cell_type": "code",
   "execution_count": null,
   "metadata": {
    "polyglot_notebook": {
     "kernelName": "pwsh"
    }
   },
   "outputs": [],
   "source": [
    "# Spin up a throw-away MariaDB container on host port 3306\n",
    "docker run --name temp-mariadb `\n",
    "    -e MARIADB_ROOT_PASSWORD=\"P@ssw0rd!\" `\n",
    "    -d -p 3306:3306 `\n",
    "    mariadb:latest\n",
    "\n",
    "Write-Output \"Waiting for MariaDB to be ready... (few seconds)\"\n",
    "Start-Sleep -Seconds 10\n",
    "Write-Output \"Done\""
   ]
  },
  {
   "cell_type": "code",
   "execution_count": null,
   "metadata": {
    "polyglot_notebook": {
     "kernelName": "pwsh"
    }
   },
   "outputs": [],
   "source": [
    "# Create the target database 'wordpress'\n",
    "Write-Output \"Creating database 'wordpress'...\"\n",
    "docker exec temp-mariadb `\n",
    "    mariadb -uroot -p\"P@ssw0rd!\" `\n",
    "    -e \"CREATE DATABASE IF NOT EXISTS wordpress;\"\n",
    "Write-Output \"Done\"\n"
   ]
  },
  {
   "cell_type": "code",
   "execution_count": null,
   "metadata": {
    "polyglot_notebook": {
     "kernelName": "pwsh"
    }
   },
   "outputs": [],
   "source": [
    "# Import your dump into 'wordpress'\n",
    "Write-Output \"Importing input/database/backup.sql into 'wordpress'...\"\n",
    "Get-Content ./input/database/backup.sql -Raw `\n",
    "| docker exec -i temp-mariadb `\n",
    "    mariadb -uroot -p\"P@ssw0rd!\" wordpress\n",
    "\n",
    "# Connect to inspect\n",
    "Write-Output \"`nInspecting databases...\"\n",
    "docker exec -i temp-mariadb `\n",
    "    mariadb -uroot -p\"P@ssw0rd!\" `\n",
    "    -e \"SHOW DATABASES;\"\n",
    "\n",
    "# Import complete\n",
    "Write-Output \"`n✅ Import complete. To connect manually run:`n    docker exec -it temp-mariadb mariadb -uroot -p\"\n",
    "Write-Output \"Done\""
   ]
  },
  {
   "cell_type": "code",
   "execution_count": null,
   "metadata": {
    "polyglot_notebook": {
     "kernelName": "javascript"
    }
   },
   "outputs": [],
   "source": [
    "d3 = await import(\"https://cdn.jsdelivr.net/npm/d3@7/+esm\");\n",
    "console.log(`unfortunately we can't import local files.`)\n"
   ]
  },
  {
   "cell_type": "markdown",
   "id": "afc1bdc7",
   "metadata": {},
   "source": [
    "# End of experiment\n",
    "\n",
    "Would be great if we could use package manager to install packages and import local files.\n",
    "Super cool to try my first Polygot Notebook though."
   ]
  },
  {
   "cell_type": "code",
   "execution_count": null,
   "id": "712a9f62",
   "metadata": {
    "polyglot_notebook": {
     "kernelName": "pwsh"
    }
   },
   "outputs": [],
   "source": [
    "# Stop and remove the MariaDB container\n",
    "Write-Host \"Removing container...\"\n",
    "docker stop temp-mariadb\n",
    "docker rm temp-mariadb\n",
    "\n",
    "Write-Host \"✅ MariaDB container 'temp-mariadb' torn down.\"\n"
   ]
  },
  {
   "cell_type": "markdown",
   "id": "f9032b12",
   "metadata": {},
   "source": []
  }
 ],
 "metadata": {
  "kernelspec": {
   "display_name": ".NET (C#)",
   "language": "C#",
   "name": ".net-csharp"
  },
  "polyglot_notebook": {
   "kernelInfo": {
    "defaultKernelName": "csharp",
    "items": [
     {
      "aliases": [],
      "name": "csharp"
     },
     {
      "aliases": [],
      "languageName": "pwsh",
      "name": "pwsh"
     }
    ]
   }
  }
 },
 "nbformat": 4,
 "nbformat_minor": 5
}
